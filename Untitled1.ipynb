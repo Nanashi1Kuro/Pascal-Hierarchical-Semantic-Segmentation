{
 "cells": [
  {
   "cell_type": "code",
   "execution_count": 2,
   "metadata": {
    "id": "FBmn7KD8MRo4"
   },
   "outputs": [
    {
     "name": "stdout",
     "output_type": "stream",
     "text": [
      "Defaulting to user installation because normal site-packages is not writeable\n",
      "Requirement already satisfied: torch in /home/chris/.local/lib/python3.11/site-packages (2.3.0+cu118)\n",
      "Requirement already satisfied: torchvision in /home/chris/.local/lib/python3.11/site-packages (0.18.0+cu118)\n",
      "Requirement already satisfied: albumentations in /home/chris/.local/lib/python3.11/site-packages (1.4.14)\n",
      "Requirement already satisfied: segmentation-models-pytorch in /home/chris/.local/lib/python3.11/site-packages (0.3.4.dev0)\n",
      "Requirement already satisfied: filelock in /home/chris/.local/lib/python3.11/site-packages (from torch) (3.13.1)\n",
      "Requirement already satisfied: typing-extensions>=4.8.0 in /home/chris/.local/lib/python3.11/site-packages (from torch) (4.9.0)\n",
      "Requirement already satisfied: sympy in /home/chris/.local/lib/python3.11/site-packages (from torch) (1.12)\n",
      "Requirement already satisfied: networkx in /home/chris/.local/lib/python3.11/site-packages (from torch) (3.2.1)\n",
      "Requirement already satisfied: jinja2 in /home/chris/.local/lib/python3.11/site-packages (from torch) (3.1.4)\n",
      "Requirement already satisfied: fsspec in /home/chris/.local/lib/python3.11/site-packages (from torch) (2024.2.0)\n",
      "Requirement already satisfied: nvidia-cuda-nvrtc-cu11==11.8.89 in /home/chris/.local/lib/python3.11/site-packages (from torch) (11.8.89)\n",
      "Requirement already satisfied: nvidia-cuda-runtime-cu11==11.8.89 in /home/chris/.local/lib/python3.11/site-packages (from torch) (11.8.89)\n",
      "Requirement already satisfied: nvidia-cuda-cupti-cu11==11.8.87 in /home/chris/.local/lib/python3.11/site-packages (from torch) (11.8.87)\n",
      "Requirement already satisfied: nvidia-cudnn-cu11==8.7.0.84 in /home/chris/.local/lib/python3.11/site-packages (from torch) (8.7.0.84)\n",
      "Requirement already satisfied: nvidia-cublas-cu11==11.11.3.6 in /home/chris/.local/lib/python3.11/site-packages (from torch) (11.11.3.6)\n",
      "Requirement already satisfied: nvidia-cufft-cu11==10.9.0.58 in /home/chris/.local/lib/python3.11/site-packages (from torch) (10.9.0.58)\n",
      "Requirement already satisfied: nvidia-curand-cu11==10.3.0.86 in /home/chris/.local/lib/python3.11/site-packages (from torch) (10.3.0.86)\n",
      "Requirement already satisfied: nvidia-cusolver-cu11==11.4.1.48 in /home/chris/.local/lib/python3.11/site-packages (from torch) (11.4.1.48)\n",
      "Requirement already satisfied: nvidia-cusparse-cu11==11.7.5.86 in /home/chris/.local/lib/python3.11/site-packages (from torch) (11.7.5.86)\n",
      "Requirement already satisfied: nvidia-nccl-cu11==2.20.5 in /home/chris/.local/lib/python3.11/site-packages (from torch) (2.20.5)\n",
      "Requirement already satisfied: nvidia-nvtx-cu11==11.8.86 in /home/chris/.local/lib/python3.11/site-packages (from torch) (11.8.86)\n",
      "Requirement already satisfied: triton==2.3.0 in /home/chris/.local/lib/python3.11/site-packages (from torch) (2.3.0)\n",
      "Requirement already satisfied: numpy in /home/chris/.local/lib/python3.11/site-packages (from torchvision) (1.26.4)\n",
      "Requirement already satisfied: pillow!=8.3.*,>=5.3.0 in /home/chris/.local/lib/python3.11/site-packages (from torchvision) (10.3.0)\n",
      "Requirement already satisfied: scipy>=1.10.0 in /home/chris/.local/lib/python3.11/site-packages (from albumentations) (1.13.1)\n",
      "Requirement already satisfied: scikit-image>=0.21.0 in /home/chris/.local/lib/python3.11/site-packages (from albumentations) (0.23.2)\n",
      "Requirement already satisfied: PyYAML in /usr/lib/python3/dist-packages (from albumentations) (5.3.1)\n",
      "Requirement already satisfied: pydantic>=2.7.0 in /home/chris/.local/lib/python3.11/site-packages (from albumentations) (2.8.2)\n",
      "Requirement already satisfied: albucore>=0.0.13 in /home/chris/.local/lib/python3.11/site-packages (from albumentations) (0.0.13)\n",
      "Requirement already satisfied: eval-type-backport in /home/chris/.local/lib/python3.11/site-packages (from albumentations) (0.2.0)\n",
      "Requirement already satisfied: opencv-python-headless>=4.9.0.80 in /home/chris/.local/lib/python3.11/site-packages (from albumentations) (4.10.0.84)\n",
      "Requirement already satisfied: pretrainedmodels==0.7.4 in /home/chris/.local/lib/python3.11/site-packages (from segmentation-models-pytorch) (0.7.4)\n",
      "Requirement already satisfied: efficientnet-pytorch==0.7.1 in /home/chris/.local/lib/python3.11/site-packages (from segmentation-models-pytorch) (0.7.1)\n",
      "Requirement already satisfied: timm==0.9.7 in /home/chris/.local/lib/python3.11/site-packages (from segmentation-models-pytorch) (0.9.7)\n",
      "Requirement already satisfied: tqdm in /home/chris/.local/lib/python3.11/site-packages (from segmentation-models-pytorch) (4.66.4)\n",
      "Requirement already satisfied: six in /usr/lib/python3/dist-packages (from segmentation-models-pytorch) (1.14.0)\n",
      "Requirement already satisfied: munch in /home/chris/.local/lib/python3.11/site-packages (from pretrainedmodels==0.7.4->segmentation-models-pytorch) (4.0.0)\n",
      "Requirement already satisfied: huggingface-hub in /home/chris/.local/lib/python3.11/site-packages (from timm==0.9.7->segmentation-models-pytorch) (0.24.5)\n",
      "Requirement already satisfied: safetensors in /home/chris/.local/lib/python3.11/site-packages (from timm==0.9.7->segmentation-models-pytorch) (0.4.4)\n",
      "Requirement already satisfied: tomli>=2.0.1 in /home/chris/.local/lib/python3.11/site-packages (from albucore>=0.0.13->albumentations) (2.0.1)\n",
      "Requirement already satisfied: annotated-types>=0.4.0 in /home/chris/.local/lib/python3.11/site-packages (from pydantic>=2.7.0->albumentations) (0.7.0)\n",
      "Requirement already satisfied: pydantic-core==2.20.1 in /home/chris/.local/lib/python3.11/site-packages (from pydantic>=2.7.0->albumentations) (2.20.1)\n",
      "Requirement already satisfied: imageio>=2.33 in /home/chris/.local/lib/python3.11/site-packages (from scikit-image>=0.21.0->albumentations) (2.34.1)\n",
      "Requirement already satisfied: tifffile>=2022.8.12 in /home/chris/.local/lib/python3.11/site-packages (from scikit-image>=0.21.0->albumentations) (2024.5.22)\n",
      "Requirement already satisfied: packaging>=21 in /home/chris/.local/lib/python3.11/site-packages (from scikit-image>=0.21.0->albumentations) (24.0)\n",
      "Requirement already satisfied: lazy-loader>=0.4 in /home/chris/.local/lib/python3.11/site-packages (from scikit-image>=0.21.0->albumentations) (0.4)\n",
      "Requirement already satisfied: MarkupSafe>=2.0 in /home/chris/.local/lib/python3.11/site-packages (from jinja2->torch) (2.1.5)\n",
      "Requirement already satisfied: mpmath>=0.19 in /home/chris/.local/lib/python3.11/site-packages (from sympy->torch) (1.3.0)\n",
      "Requirement already satisfied: requests in /home/chris/.local/lib/python3.11/site-packages (from huggingface-hub->timm==0.9.7->segmentation-models-pytorch) (2.32.3)\n",
      "Requirement already satisfied: charset-normalizer<4,>=2 in /home/chris/.local/lib/python3.11/site-packages (from requests->huggingface-hub->timm==0.9.7->segmentation-models-pytorch) (3.3.2)\n",
      "Requirement already satisfied: idna<4,>=2.5 in /usr/lib/python3/dist-packages (from requests->huggingface-hub->timm==0.9.7->segmentation-models-pytorch) (2.8)\n",
      "Requirement already satisfied: urllib3<3,>=1.21.1 in /usr/lib/python3/dist-packages (from requests->huggingface-hub->timm==0.9.7->segmentation-models-pytorch) (1.25.8)\n",
      "Requirement already satisfied: certifi>=2017.4.17 in /usr/lib/python3/dist-packages (from requests->huggingface-hub->timm==0.9.7->segmentation-models-pytorch) (2019.11.28)\n",
      "\n",
      "\u001b[1m[\u001b[0m\u001b[34;49mnotice\u001b[0m\u001b[1;39;49m]\u001b[0m\u001b[39;49m A new release of pip is available: \u001b[0m\u001b[31;49m24.0\u001b[0m\u001b[39;49m -> \u001b[0m\u001b[32;49m24.2\u001b[0m\n",
      "\u001b[1m[\u001b[0m\u001b[34;49mnotice\u001b[0m\u001b[1;39;49m]\u001b[0m\u001b[39;49m To update, run: \u001b[0m\u001b[32;49mpython3.11 -m pip install --upgrade pip\u001b[0m\n"
     ]
    }
   ],
   "source": [
    "# Установка и импорт необходимых библиотек\n",
    "!pip3 install torch torchvision albumentations segmentation-models-pytorch"
   ]
  },
  {
   "cell_type": "code",
   "execution_count": 3,
   "metadata": {},
   "outputs": [
    {
     "name": "stdout",
     "output_type": "stream",
     "text": [
      "Defaulting to user installation because normal site-packages is not writeable\n",
      "Collecting git+https://github.com/qubvel/segmentation_models.pytorch\n",
      "  Cloning https://github.com/qubvel/segmentation_models.pytorch to /tmp/pip-req-build-n5_yj448\n",
      "  Running command git clone --filter=blob:none --quiet https://github.com/qubvel/segmentation_models.pytorch /tmp/pip-req-build-n5_yj448\n",
      "  Resolved https://github.com/qubvel/segmentation_models.pytorch to commit c68fc942408f7ead3fd64e866204980b05a6bfb0\n",
      "  Installing build dependencies ... \u001b[?25ldone\n",
      "\u001b[?25h  Getting requirements to build wheel ... \u001b[?25ldone\n",
      "\u001b[?25h  Preparing metadata (pyproject.toml) ... \u001b[?25ldone\n",
      "\u001b[?25hRequirement already satisfied: torchvision>=0.5.0 in /home/chris/.local/lib/python3.11/site-packages (from segmentation_models_pytorch==0.3.4.dev0) (0.18.0+cu118)\n",
      "Requirement already satisfied: pretrainedmodels==0.7.4 in /home/chris/.local/lib/python3.11/site-packages (from segmentation_models_pytorch==0.3.4.dev0) (0.7.4)\n",
      "Requirement already satisfied: efficientnet-pytorch==0.7.1 in /home/chris/.local/lib/python3.11/site-packages (from segmentation_models_pytorch==0.3.4.dev0) (0.7.1)\n",
      "Requirement already satisfied: timm==0.9.7 in /home/chris/.local/lib/python3.11/site-packages (from segmentation_models_pytorch==0.3.4.dev0) (0.9.7)\n",
      "Requirement already satisfied: tqdm in /home/chris/.local/lib/python3.11/site-packages (from segmentation_models_pytorch==0.3.4.dev0) (4.66.4)\n",
      "Requirement already satisfied: pillow in /home/chris/.local/lib/python3.11/site-packages (from segmentation_models_pytorch==0.3.4.dev0) (10.3.0)\n",
      "Requirement already satisfied: six in /usr/lib/python3/dist-packages (from segmentation_models_pytorch==0.3.4.dev0) (1.14.0)\n",
      "Requirement already satisfied: torch in /home/chris/.local/lib/python3.11/site-packages (from efficientnet-pytorch==0.7.1->segmentation_models_pytorch==0.3.4.dev0) (2.3.0+cu118)\n",
      "Requirement already satisfied: munch in /home/chris/.local/lib/python3.11/site-packages (from pretrainedmodels==0.7.4->segmentation_models_pytorch==0.3.4.dev0) (4.0.0)\n",
      "Requirement already satisfied: pyyaml in /usr/lib/python3/dist-packages (from timm==0.9.7->segmentation_models_pytorch==0.3.4.dev0) (5.3.1)\n",
      "Requirement already satisfied: huggingface-hub in /home/chris/.local/lib/python3.11/site-packages (from timm==0.9.7->segmentation_models_pytorch==0.3.4.dev0) (0.24.5)\n",
      "Requirement already satisfied: safetensors in /home/chris/.local/lib/python3.11/site-packages (from timm==0.9.7->segmentation_models_pytorch==0.3.4.dev0) (0.4.4)\n",
      "Requirement already satisfied: numpy in /home/chris/.local/lib/python3.11/site-packages (from torchvision>=0.5.0->segmentation_models_pytorch==0.3.4.dev0) (1.26.4)\n",
      "Requirement already satisfied: filelock in /home/chris/.local/lib/python3.11/site-packages (from torch->efficientnet-pytorch==0.7.1->segmentation_models_pytorch==0.3.4.dev0) (3.13.1)\n",
      "Requirement already satisfied: typing-extensions>=4.8.0 in /home/chris/.local/lib/python3.11/site-packages (from torch->efficientnet-pytorch==0.7.1->segmentation_models_pytorch==0.3.4.dev0) (4.9.0)\n",
      "Requirement already satisfied: sympy in /home/chris/.local/lib/python3.11/site-packages (from torch->efficientnet-pytorch==0.7.1->segmentation_models_pytorch==0.3.4.dev0) (1.12)\n",
      "Requirement already satisfied: networkx in /home/chris/.local/lib/python3.11/site-packages (from torch->efficientnet-pytorch==0.7.1->segmentation_models_pytorch==0.3.4.dev0) (3.2.1)\n",
      "Requirement already satisfied: jinja2 in /home/chris/.local/lib/python3.11/site-packages (from torch->efficientnet-pytorch==0.7.1->segmentation_models_pytorch==0.3.4.dev0) (3.1.4)\n",
      "Requirement already satisfied: fsspec in /home/chris/.local/lib/python3.11/site-packages (from torch->efficientnet-pytorch==0.7.1->segmentation_models_pytorch==0.3.4.dev0) (2024.2.0)\n",
      "Requirement already satisfied: nvidia-cuda-nvrtc-cu11==11.8.89 in /home/chris/.local/lib/python3.11/site-packages (from torch->efficientnet-pytorch==0.7.1->segmentation_models_pytorch==0.3.4.dev0) (11.8.89)\n",
      "Requirement already satisfied: nvidia-cuda-runtime-cu11==11.8.89 in /home/chris/.local/lib/python3.11/site-packages (from torch->efficientnet-pytorch==0.7.1->segmentation_models_pytorch==0.3.4.dev0) (11.8.89)\n",
      "Requirement already satisfied: nvidia-cuda-cupti-cu11==11.8.87 in /home/chris/.local/lib/python3.11/site-packages (from torch->efficientnet-pytorch==0.7.1->segmentation_models_pytorch==0.3.4.dev0) (11.8.87)\n",
      "Requirement already satisfied: nvidia-cudnn-cu11==8.7.0.84 in /home/chris/.local/lib/python3.11/site-packages (from torch->efficientnet-pytorch==0.7.1->segmentation_models_pytorch==0.3.4.dev0) (8.7.0.84)\n",
      "Requirement already satisfied: nvidia-cublas-cu11==11.11.3.6 in /home/chris/.local/lib/python3.11/site-packages (from torch->efficientnet-pytorch==0.7.1->segmentation_models_pytorch==0.3.4.dev0) (11.11.3.6)\n",
      "Requirement already satisfied: nvidia-cufft-cu11==10.9.0.58 in /home/chris/.local/lib/python3.11/site-packages (from torch->efficientnet-pytorch==0.7.1->segmentation_models_pytorch==0.3.4.dev0) (10.9.0.58)\n",
      "Requirement already satisfied: nvidia-curand-cu11==10.3.0.86 in /home/chris/.local/lib/python3.11/site-packages (from torch->efficientnet-pytorch==0.7.1->segmentation_models_pytorch==0.3.4.dev0) (10.3.0.86)\n",
      "Requirement already satisfied: nvidia-cusolver-cu11==11.4.1.48 in /home/chris/.local/lib/python3.11/site-packages (from torch->efficientnet-pytorch==0.7.1->segmentation_models_pytorch==0.3.4.dev0) (11.4.1.48)\n",
      "Requirement already satisfied: nvidia-cusparse-cu11==11.7.5.86 in /home/chris/.local/lib/python3.11/site-packages (from torch->efficientnet-pytorch==0.7.1->segmentation_models_pytorch==0.3.4.dev0) (11.7.5.86)\n",
      "Requirement already satisfied: nvidia-nccl-cu11==2.20.5 in /home/chris/.local/lib/python3.11/site-packages (from torch->efficientnet-pytorch==0.7.1->segmentation_models_pytorch==0.3.4.dev0) (2.20.5)\n",
      "Requirement already satisfied: nvidia-nvtx-cu11==11.8.86 in /home/chris/.local/lib/python3.11/site-packages (from torch->efficientnet-pytorch==0.7.1->segmentation_models_pytorch==0.3.4.dev0) (11.8.86)\n",
      "Requirement already satisfied: triton==2.3.0 in /home/chris/.local/lib/python3.11/site-packages (from torch->efficientnet-pytorch==0.7.1->segmentation_models_pytorch==0.3.4.dev0) (2.3.0)\n",
      "Requirement already satisfied: packaging>=20.9 in /home/chris/.local/lib/python3.11/site-packages (from huggingface-hub->timm==0.9.7->segmentation_models_pytorch==0.3.4.dev0) (24.0)\n",
      "Requirement already satisfied: requests in /home/chris/.local/lib/python3.11/site-packages (from huggingface-hub->timm==0.9.7->segmentation_models_pytorch==0.3.4.dev0) (2.32.3)\n",
      "Requirement already satisfied: MarkupSafe>=2.0 in /home/chris/.local/lib/python3.11/site-packages (from jinja2->torch->efficientnet-pytorch==0.7.1->segmentation_models_pytorch==0.3.4.dev0) (2.1.5)\n",
      "Requirement already satisfied: charset-normalizer<4,>=2 in /home/chris/.local/lib/python3.11/site-packages (from requests->huggingface-hub->timm==0.9.7->segmentation_models_pytorch==0.3.4.dev0) (3.3.2)\n",
      "Requirement already satisfied: idna<4,>=2.5 in /usr/lib/python3/dist-packages (from requests->huggingface-hub->timm==0.9.7->segmentation_models_pytorch==0.3.4.dev0) (2.8)\n",
      "Requirement already satisfied: urllib3<3,>=1.21.1 in /usr/lib/python3/dist-packages (from requests->huggingface-hub->timm==0.9.7->segmentation_models_pytorch==0.3.4.dev0) (1.25.8)\n",
      "Requirement already satisfied: certifi>=2017.4.17 in /usr/lib/python3/dist-packages (from requests->huggingface-hub->timm==0.9.7->segmentation_models_pytorch==0.3.4.dev0) (2019.11.28)\n",
      "Requirement already satisfied: mpmath>=0.19 in /home/chris/.local/lib/python3.11/site-packages (from sympy->torch->efficientnet-pytorch==0.7.1->segmentation_models_pytorch==0.3.4.dev0) (1.3.0)\n",
      "\n",
      "\u001b[1m[\u001b[0m\u001b[34;49mnotice\u001b[0m\u001b[1;39;49m]\u001b[0m\u001b[39;49m A new release of pip is available: \u001b[0m\u001b[31;49m24.0\u001b[0m\u001b[39;49m -> \u001b[0m\u001b[32;49m24.2\u001b[0m\n",
      "\u001b[1m[\u001b[0m\u001b[34;49mnotice\u001b[0m\u001b[1;39;49m]\u001b[0m\u001b[39;49m To update, run: \u001b[0m\u001b[32;49mpython3.11 -m pip install --upgrade pip\u001b[0m\n"
     ]
    }
   ],
   "source": [
    "!pip3 install -U git+https://github.com/qubvel/segmentation_models.pytorch"
   ]
  },
  {
   "cell_type": "code",
   "execution_count": 6,
   "metadata": {},
   "outputs": [
    {
     "name": "stdout",
     "output_type": "stream",
     "text": [
      "Python 3.8.10\n"
     ]
    }
   ],
   "source": [
    "!python3 --version"
   ]
  },
  {
   "cell_type": "code",
   "execution_count": 4,
   "metadata": {
    "id": "fqL7l1VjLV7V"
   },
   "outputs": [
    {
     "ename": "ModuleNotFoundError",
     "evalue": "No module named 'segmentation_models_pytorch'",
     "output_type": "error",
     "traceback": [
      "\u001b[0;31m---------------------------------------------------------------------------\u001b[0m",
      "\u001b[0;31mModuleNotFoundError\u001b[0m                       Traceback (most recent call last)",
      "Cell \u001b[0;32mIn[4], line 7\u001b[0m\n\u001b[1;32m      5\u001b[0m \u001b[38;5;28;01mfrom\u001b[39;00m \u001b[38;5;21;01mtorch\u001b[39;00m\u001b[38;5;21;01m.\u001b[39;00m\u001b[38;5;21;01mutils\u001b[39;00m\u001b[38;5;21;01m.\u001b[39;00m\u001b[38;5;21;01mdata\u001b[39;00m \u001b[38;5;28;01mimport\u001b[39;00m DataLoader, Dataset\n\u001b[1;32m      6\u001b[0m \u001b[38;5;28;01mfrom\u001b[39;00m \u001b[38;5;21;01mtorchvision\u001b[39;00m \u001b[38;5;28;01mimport\u001b[39;00m transforms\n\u001b[0;32m----> 7\u001b[0m \u001b[38;5;28;01mimport\u001b[39;00m \u001b[38;5;21;01msegmentation_models_pytorch\u001b[39;00m \u001b[38;5;28;01mas\u001b[39;00m \u001b[38;5;21;01msmp\u001b[39;00m\n\u001b[1;32m      8\u001b[0m \u001b[38;5;28;01mimport\u001b[39;00m \u001b[38;5;21;01malbumentations\u001b[39;00m \u001b[38;5;28;01mas\u001b[39;00m \u001b[38;5;21;01mA\u001b[39;00m\n\u001b[1;32m      9\u001b[0m \u001b[38;5;28;01mfrom\u001b[39;00m \u001b[38;5;21;01malbumentations\u001b[39;00m\u001b[38;5;21;01m.\u001b[39;00m\u001b[38;5;21;01mpytorch\u001b[39;00m \u001b[38;5;28;01mimport\u001b[39;00m ToTensorV2\n",
      "\u001b[0;31mModuleNotFoundError\u001b[0m: No module named 'segmentation_models_pytorch'"
     ]
    }
   ],
   "source": [
    "import torch\n",
    "import torch.nn as nn\n",
    "import torch.optim as optim\n",
    "from torch.optim import lr_scheduler\n",
    "from torch.utils.data import DataLoader, Dataset\n",
    "from torchvision import transforms\n",
    "import segmentation_models_pytorch as smp\n",
    "import albumentations as A\n",
    "from albumentations.pytorch import ToTensorV2\n",
    "\n",
    "import numpy as np\n",
    "import matplotlib.pyplot as plt\n",
    "from sklearn.metrics import jaccard_score\n",
    "import os\n",
    "from glob import glob\n",
    "\n",
    "# Проверка доступности GPU\n",
    "device = torch.device('cuda' if torch.cuda.is_available() else 'cpu')"
   ]
  },
  {
   "cell_type": "code",
   "execution_count": null,
   "metadata": {
    "id": "rHUGNJt-LY70"
   },
   "outputs": [],
   "source": [
    "# Путь к данным\n",
    "data_path = '/home/chris/Downloads/idk/Pascal-part'\n",
    "\n",
    "# Чтение списков обучающих и валидационных данных\n",
    "with open(os.path.join(data_path, 'train_id.txt'), 'r') as f:\n",
    "    train_ids = f.read().splitlines()\n",
    "\n",
    "with open(os.path.join(data_path, 'val_id.txt'), 'r') as f:\n",
    "    val_ids = f.read().splitlines()\n",
    "\n",
    "# Определение пользовательского Dataset\n",
    "class PascalPartDataset(Dataset):\n",
    "    def __init__(self, ids, data_path, transform=None):\n",
    "        self.ids = ids\n",
    "        self.data_path = data_path\n",
    "        self.transform = transform\n",
    "\n",
    "    def __len__(self):\n",
    "        return len(self.ids)\n",
    "\n",
    "    def __getitem__(self, idx):\n",
    "        img_id = self.ids[idx]\n",
    "        img_path = os.path.join(self.data_path, 'JPEGImages', f'{img_id}.jpg')\n",
    "        mask_path = os.path.join(self.data_path, 'gt_masks', f'{img_id}.npy')\n",
    "\n",
    "        image = plt.imread(img_path)\n",
    "        mask = np.load(mask_path)\n",
    "\n",
    "        if self.transform:\n",
    "            augmented = self.transform(image=image, mask=mask)\n",
    "            image = augmented['image']\n",
    "            mask = augmented['mask']\n",
    "\n",
    "        return image, mask\n",
    "\n",
    "# Трансформации для данных\n",
    "train_transform = A.Compose([\n",
    "    A.HorizontalFlip(p=0.5),\n",
    "    A.VerticalFlip(p=0.5),\n",
    "    A.RandomRotate90(p=0.5),\n",
    "    A.ShiftScaleRotate(shift_limit=0.1, scale_limit=0.1, rotate_limit=15, p=0.5),\n",
    "    A.RandomBrightnessContrast(brightness_limit=0.2, contrast_limit=0.2, p=0.5),\n",
    "    A.Normalize(),\n",
    "    ToTensorV2(),\n",
    "])\n",
    "\n",
    "val_transform = A.Compose([\n",
    "    A.Normalize(),\n",
    "    ToTensorV2(),\n",
    "])\n",
    "\n",
    "image_dir = 'JPEGImages'\n",
    "mask_dir = 'gt_masks'\n",
    "\n",
    "# Загрузка идентификаторов изображений\n",
    "train_ids = np.loadtxt('train_id.txt', dtype=str)\n",
    "val_ids = np.loadtxt('val_id.txt', dtype=str)\n",
    "\n",
    "# Разделение на обучающую и валидационную выборки\n",
    "train_dataset = PascalPartDataset(image_dir, mask_dir, train_ids, transform=transform)\n",
    "val_dataset = PascalPartDataset(image_dir, mask_dir, val_ids, transform=transform)\n",
    "\n",
    "train_loader = DataLoader(train_dataset, batch_size=16, shuffle=True)\n",
    "val_loader = DataLoader(val_dataset, batch_size=16, shuffle=False)"
   ]
  },
  {
   "cell_type": "code",
   "execution_count": null,
   "metadata": {
    "id": "-wVsVgahLZCQ"
   },
   "outputs": [],
   "source": [
    "# Focal Loss для работы с несбалансированными классами\n",
    "class FocalLoss(nn.Module):\n",
    "    def __init__(self, alpha=1, gamma=2, reduction='mean'):\n",
    "        super(FocalLoss, self).__init__()\n",
    "        self.alpha = alpha\n",
    "        self.gamma = gamma\n",
    "        self.reduction = reduction\n",
    "\n",
    "    def forward(self, inputs, targets):\n",
    "        BCE_loss = nn.CrossEntropyLoss()(inputs, targets)\n",
    "        pt = torch.exp(-BCE_loss)\n",
    "        F_loss = self.alpha * (1 - pt) ** self.gamma * BCE_loss\n",
    "\n",
    "        if self.reduction == 'mean':\n",
    "            return torch.mean(F_loss)\n",
    "        elif self.reduction == 'sum':\n",
    "            return torch.sum(F_loss)\n",
    "        else:\n",
    "            return F_loss\n",
    "\n",
    "# Оптимизатор и Scheduler\n",
    "optimizer = optim.Adam(unet_model_resnet50_scratch.parameters(), lr=1e-3)\n",
    "scheduler = lr_scheduler.CosineAnnealingWarmRestarts(optimizer, T_0=10, T_mult=1, eta_min=1e-6)\n",
    "\n",
    "criterion = FocalLoss()\n"
   ]
  },
  {
   "cell_type": "code",
   "execution_count": null,
   "metadata": {
    "id": "ANr0VGv9LZFn"
   },
   "outputs": [],
   "source": [
    "def train_epoch(model, dataloader, criterion, optimizer, device):\n",
    "    model.train()\n",
    "    running_loss = 0.0\n",
    "\n",
    "    for images, masks in dataloader:\n",
    "        images = images.to(device)\n",
    "        masks = masks.to(device)\n",
    "\n",
    "        optimizer.zero_grad()\n",
    "        outputs = model(images)\n",
    "        loss = criterion(outputs, masks)\n",
    "        loss.backward()\n",
    "        optimizer.step()\n",
    "\n",
    "        running_loss += loss.item() * images.size(0)\n",
    "\n",
    "    epoch_loss = running_loss / len(dataloader.dataset)\n",
    "    return epoch_loss\n",
    "\n",
    "def val_epoch(model, dataloader, criterion, device):\n",
    "    model.eval()\n",
    "    running_loss = 0.0\n",
    "    all_preds = []\n",
    "    all_targets = []\n",
    "\n",
    "    with torch.no_grad():\n",
    "        for images, masks in dataloader:\n",
    "            images = images.to(device)\n",
    "            masks = masks.to(device)\n",
    "\n",
    "            outputs = model(images)\n",
    "            loss = criterion(outputs, masks)\n",
    "\n",
    "            running_loss += loss.item() * images.size(0)\n",
    "\n",
    "            preds = torch.argmax(outputs, dim=1)\n",
    "            all_preds.append(preds.cpu().numpy())\n",
    "            all_targets.append(masks.cpu().numpy())\n",
    "\n",
    "    epoch_loss = running_loss / len(dataloader.dataset)\n",
    "    all_preds = np.concatenate(all_preds)\n",
    "    all_targets = np.concatenate(all_targets)\n",
    "\n",
    "    return epoch_loss, all_preds, all_targets\n"
   ]
  },
  {
   "cell_type": "code",
   "execution_count": null,
   "metadata": {
    "id": "eJkv2tv6LZIQ"
   },
   "outputs": [],
   "source": [
    "def visualize_predictions(model, dataloader, device, num_images=5):\n",
    "    model.eval()\n",
    "    images, masks = next(iter(dataloader))\n",
    "    images = images[:num_images].to(device)\n",
    "    masks = masks[:num_images].to(device)\n",
    "\n",
    "    with torch.no_grad():\n",
    "        outputs = model(images)\n",
    "        preds = torch.argmax(outputs, dim=1).cpu().numpy()\n",
    "\n",
    "    fig, axs = plt.subplots(num_images, 3, figsize=(12, num_images * 4))\n",
    "    for i in range(num_images):\n",
    "        axs[i, 0].imshow(images[i].cpu().permute(1, 2, 0))\n",
    "        axs[i, 0].set_title('Image')\n",
    "        axs[i, 1].imshow(masks[i].cpu().numpy())\n",
    "        axs[i, 1].set_title('Ground Truth')\n",
    "        axs[i, 2].imshow(preds[i])\n",
    "        axs[i, 2].set_title('Prediction')\n",
    "\n",
    "    plt.show()\n"
   ]
  },
  {
   "cell_type": "code",
   "execution_count": null,
   "metadata": {
    "id": "hba-ZWSnLvSZ"
   },
   "outputs": [],
   "source": [
    "def save_model_weights(model, model_name, epoch, save_dir=\"model_weights\"):\n",
    "    os.makedirs(save_dir, exist_ok=True)\n",
    "    save_path = os.path.join(save_dir, f\"{model_name}_epoch_{epoch}.pth\")\n",
    "    torch.save(model.state_dict(), save_path)\n",
    "\n",
    "def load_model_weights(model, load_path):\n",
    "    model.load_state_dict(torch.load(load_path))\n"
   ]
  },
  {
   "cell_type": "code",
   "execution_count": null,
   "metadata": {
    "id": "Gcs20SySLvVC"
   },
   "outputs": [],
   "source": [
    "models = {\n",
    "    \"UNet-ResNet34-Scratch\": smp.Unet(encoder_name=\"resnet34\", encoder_weights=None, in_channels=3, classes=7).to(device),\n",
    "    \"UNet-ResNet50-Scratch\": smp.Unet(encoder_name=\"resnet50\", encoder_weights=None, in_channels=3, classes=7).to(device),\n",
    "    \"UNet-ResNet34-Pretrained\": smp.Unet(encoder_name=\"resnet34\", encoder_weights=\"imagenet\", in_channels=3, classes=7).to(device),\n",
    "    \"UNet-ResNet50-Pretrained\": smp.Unet(encoder_name=\"resnet50\", encoder_weights=\"imagenet\", in_channels=3, classes=7).to(device),\n",
    "    \"DeepLabV3+-ResNet34-Scratch\": smp.DeepLabV3Plus(encoder_name=\"resnet34\", encoder_weights=None, in_channels=3, classes=7).to(device),\n",
    "    \"DeepLabV3+-ResNet50-Scratch\": smp.DeepLabV3Plus(encoder_name=\"resnet50\", encoder_weights=None, in_channels=3, classes=7).to(device),\n",
    "    \"DeepLabV3+-ResNet34-Pretrained\": smp.DeepLabV3Plus(encoder_name=\"resnet34\", encoder_weights=\"imagenet\", in_channels=3, classes=7).to(device),\n",
    "    \"DeepLabV3+-ResNet50-Pretrained\": smp.DeepLabV3Plus(encoder_name=\"resnet50\", encoder_weights=\"imagenet\", in_channels=3, classes=7).to(device),\n",
    "}\n",
    "\n",
    "criterion = nn.CrossEntropyLoss()\n",
    "\n",
    "for model_name, model in models.items():\n",
    "    optimizer = optim.Adam(model.parameters(), lr=1e-3)\n",
    "    scheduler = lr_scheduler.CosineAnnealingWarmRestarts(optimizer, T_0=10, T_mult=1, eta_min=1e-6)\n",
    "    num_epochs = 20\n",
    "\n",
    "    for epoch in range(num_epochs):\n",
    "        train_loss = train_epoch(model, train_loader, criterion, optimizer, device)\n",
    "        val_loss, preds, targets = val_epoch(model, val_loader, criterion, device)\n",
    "        scheduler.step()\n",
    "\n",
    "        print(f'{model_name} - Epoch {epoch + 1}/{num_epochs}, Train Loss: {train_loss:.4f}, Val Loss: {val_loss:.4f}')\n",
    "\n",
    "        save_model_weights(model, model_name, epoch)\n",
    "\n",
    "    # Визуализация предсказаний после завершения обучения\n",
    "    print(f'Visualizing predictions for {model_name}')\n",
    "    visualize_predictions(model, val_loader, device)\n"
   ]
  },
  {
   "cell_type": "code",
   "execution_count": null,
   "metadata": {
    "id": "RPFo5en7LvXb"
   },
   "outputs": [],
   "source": []
  },
  {
   "cell_type": "code",
   "execution_count": null,
   "metadata": {
    "id": "-SL_XhY5LvaO"
   },
   "outputs": [],
   "source": []
  }
 ],
 "metadata": {
  "colab": {
   "provenance": []
  },
  "kernelspec": {
   "display_name": "Python 3 (ipykernel)",
   "language": "python",
   "name": "python3"
  },
  "language_info": {
   "codemirror_mode": {
    "name": "ipython",
    "version": 3
   },
   "file_extension": ".py",
   "mimetype": "text/x-python",
   "name": "python",
   "nbconvert_exporter": "python",
   "pygments_lexer": "ipython3",
   "version": "3.8.10"
  }
 },
 "nbformat": 4,
 "nbformat_minor": 4
}
